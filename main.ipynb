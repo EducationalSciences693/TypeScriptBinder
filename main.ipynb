{
 "cells": [
  {
   "cell_type": "code",
   "execution_count": 1,
   "id": "17634bde-9302-459f-8a79-103d7ddb8102",
   "metadata": {},
   "outputs": [],
   "source": [
    "// defining variables\n",
    "let x: number = 4;\n",
    "let y: string = \"hello world!\";"
   ]
  },
  {
   "cell_type": "code",
   "execution_count": 2,
   "id": "b51177af-9fcf-45cd-b8cb-55dbb33ee40b",
   "metadata": {},
   "outputs": [],
   "source": [
    "// defining functions\n",
    "const repeatGreeting = function(times: number, greeting: string): void {\n",
    "    for (let i=0; i < times; ++i){\n",
    "        console.log(greeting);\n",
    "    }\n",
    "}"
   ]
  },
  {
   "cell_type": "code",
   "execution_count": 3,
   "id": "1888e794-d1ac-4bf4-b6bd-201183a541d3",
   "metadata": {},
   "outputs": [
    {
     "name": "stdout",
     "output_type": "stream",
     "text": [
      "hello world!\n",
      "hello world!\n",
      "hello world!\n",
      "hello world!\n"
     ]
    }
   ],
   "source": [
    "// calling functions\n",
    "repeatGreeting(x, y)"
   ]
  },
  {
   "cell_type": "code",
   "execution_count": 4,
   "id": "5a9f23df-5674-4cd8-a1bc-0481a45f2a3b",
   "metadata": {},
   "outputs": [
    {
     "name": "stdout",
     "output_type": "stream",
     "text": [
      "{ make: 'chrysler', model: '300', year: 2016 }\n"
     ]
    }
   ],
   "source": [
    "// declaring types\n",
    "type Car = {\n",
    "    make: string;\n",
    "    model: string;\n",
    "    year: number;\n",
    "}\n",
    "\n",
    "// using types\n",
    "let example: Car = {\n",
    "    make: \"chrysler\",\n",
    "    model: \"300\",\n",
    "    year: 2016\n",
    "}\n",
    "\n",
    "console.log(example);"
   ]
  },
  {
   "cell_type": "code",
   "execution_count": 5,
   "id": "963b6fe4-6451-41cd-bedc-eccaa254b55c",
   "metadata": {},
   "outputs": [],
   "source": [
    "// loading packages\n",
    "const { fromCSV } = require(\"data-forge\");\n",
    "const { array } = require(\"vectorious\");\n",
    "const { readFile } = require(\"fs\").promises;"
   ]
  },
  {
   "cell_type": "code",
   "execution_count": 6,
   "id": "e68c473b-d8f9-4350-89d3-8cd722dcc702",
   "metadata": {},
   "outputs": [
    {
     "name": "stdout",
     "output_type": "stream",
     "text": [
      "Promise { <pending> }\n",
      "[\n",
      "  {\n",
      "    HouseID: '1',\n",
      "    Price: '550000',\n",
      "    Beds: '2',\n",
      "    Baths: '3',\n",
      "    Sqft: '1245'\n",
      "  },\n",
      "  { HouseID: '2', Price: '295000', Beds: '2', Baths: '2', Sqft: '987' },\n",
      "  {\n",
      "    HouseID: '3',\n",
      "    Price: '1400000',\n",
      "    Beds: '4',\n",
      "    Baths: '3',\n",
      "    Sqft: '2806'\n",
      "  },\n",
      "  {\n",
      "    HouseID: '4',\n",
      "    Price: '510000',\n",
      "    Beds: '2',\n",
      "    Baths: '2',\n",
      "    Sqft: '1138'\n",
      "  },\n",
      "  {\n",
      "    HouseID: '5',\n",
      "    Price: '680000',\n",
      "    Beds: '2',\n",
      "    Baths: '1',\n",
      "    Sqft: '1040'\n",
      "  },\n",
      "  {\n",
      "    HouseID: '6',\n",
      "    Price: '799950',\n",
      "    Beds: '3',\n",
      "    Baths: '3',\n",
      "    Sqft: '1954'\n",
      "  },\n",
      "  {\n",
      "    HouseID: '7',\n",
      "    Price: '1040000',\n",
      "    Beds: '3',\n",
      "    Baths: '2',\n",
      "    Sqft: '2360'\n",
      "  },\n",
      "  { HouseID: '8', Price: '865000', Beds: '', Baths: '', Sqft: '2560' },\n",
      "  {\n",
      "    HouseID: '9',\n",
      "    Price: '768000',\n",
      "    Beds: '3',\n",
      "    Baths: '3',\n",
      "    Sqft: '1440'\n",
      "  },\n",
      "  {\n",
      "    HouseID: '10',\n",
      "    Price: '1150000',\n",
      "    Beds: '5',\n",
      "    Baths: '2',\n",
      "    Sqft: '2600'\n",
      "  },\n",
      "  {\n",
      "    HouseID: '11',\n",
      "    Price: '2220000',\n",
      "    Beds: '4',\n",
      "    Baths: '4',\n",
      "    Sqft: '3590'\n",
      "  },\n",
      "  {\n",
      "    HouseID: '12',\n",
      "    Price: '700000',\n",
      "    Beds: '2',\n",
      "    Baths: '1',\n",
      "    Sqft: '1580'\n",
      "  },\n",
      "  {\n",
      "    HouseID: '13',\n",
      "    Price: '975000',\n",
      "    Beds: '3',\n",
      "    Baths: '3',\n",
      "    Sqft: '1300'\n",
      "  },\n",
      "  { HouseID: '14', Price: '25000', Beds: '1', Baths: '1', Sqft: '490' },\n",
      "  {\n",
      "    HouseID: '15',\n",
      "    Price: '669000',\n",
      "    Beds: '2',\n",
      "    Baths: '2',\n",
      "    Sqft: '915'\n",
      "  },\n",
      "  {\n",
      "    HouseID: '16',\n",
      "    Price: '690000',\n",
      "    Beds: '3',\n",
      "    Baths: '2',\n",
      "    Sqft: '1112'\n",
      "  },\n",
      "  {\n",
      "    HouseID: '17',\n",
      "    Price: '379000',\n",
      "    Beds: '2',\n",
      "    Baths: '1',\n",
      "    Sqft: '930'\n",
      "  },\n",
      "  {\n",
      "    HouseID: '18',\n",
      "    Price: '424000',\n",
      "    Beds: '1',\n",
      "    Baths: '1',\n",
      "    Sqft: '633'\n",
      "  },\n",
      "  {\n",
      "    HouseID: '19',\n",
      "    Price: '500000',\n",
      "    Beds: '2',\n",
      "    Baths: '2',\n",
      "    Sqft: '853'\n",
      "  },\n",
      "  {\n",
      "    HouseID: '20',\n",
      "    Price: '875000',\n",
      "    Beds: '3',\n",
      "    Baths: '4',\n",
      "    Sqft: '1740'\n",
      "  }\n",
      "]\n"
     ]
    }
   ],
   "source": [
    "// reading file data\n",
    "readFile(\"data/example.csv\").catch(err => {\n",
    "    throw err;\n",
    "}).then(buffer => {\n",
    "    let data = fromCSV(buffer.toString());\n",
    "    console.log(data.toArray());\n",
    "});"
   ]
  }
 ],
 "metadata": {
  "kernelspec": {
   "display_name": "TypeScript",
   "language": "typescript",
   "name": "tslab"
  },
  "language_info": {
   "codemirror_mode": {
    "mode": "typescript",
    "name": "javascript",
    "typescript": true
   },
   "file_extension": ".ts",
   "mimetype": "text/typescript",
   "name": "typescript",
   "version": "3.7.2"
  }
 },
 "nbformat": 4,
 "nbformat_minor": 5
}
