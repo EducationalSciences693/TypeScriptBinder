{
 "cells": [
  {
   "cell_type": "code",
   "execution_count": 1,
   "id": "17634bde-9302-459f-8a79-103d7ddb8102",
   "metadata": {},
   "outputs": [],
   "source": [
    "// defining variables\n",
    "let x: number = 4;\n",
    "let y: string = \"hello world!\";"
   ]
  },
  {
   "cell_type": "code",
   "execution_count": 2,
   "id": "b51177af-9fcf-45cd-b8cb-55dbb33ee40b",
   "metadata": {},
   "outputs": [],
   "source": [
    "// defining functions\n",
    "const repeatGreeting = function(times: number, greeting: string): void {\n",
    "    for (let i=0; i < times; ++i){\n",
    "        console.log(greeting);\n",
    "    }\n",
    "}"
   ]
  },
  {
   "cell_type": "code",
   "execution_count": 3,
   "id": "1888e794-d1ac-4bf4-b6bd-201183a541d3",
   "metadata": {},
   "outputs": [
    {
     "name": "stdout",
     "output_type": "stream",
     "text": [
      "hello world!\n",
      "hello world!\n",
      "hello world!\n",
      "hello world!\n"
     ]
    }
   ],
   "source": [
    "// calling functions\n",
    "repeatGreeting(x, y)"
   ]
  },
  {
   "cell_type": "code",
   "execution_count": 4,
   "id": "5a9f23df-5674-4cd8-a1bc-0481a45f2a3b",
   "metadata": {},
   "outputs": [
    {
     "name": "stdout",
     "output_type": "stream",
     "text": [
      "{ make: 'chrysler', model: '300', year: 2016 }\n"
     ]
    }
   ],
   "source": [
    "// declaring types\n",
    "type Car = {\n",
    "    make: string;\n",
    "    model: string;\n",
    "    year: number;\n",
    "}\n",
    "\n",
    "// using types\n",
    "let example: Car = {\n",
    "    make: \"chrysler\",\n",
    "    model: \"300\",\n",
    "    year: 2016\n",
    "}\n",
    "\n",
    "console.log(example);"
   ]
  },
  {
   "cell_type": "code",
   "execution_count": null,
   "id": "963b6fe4-6451-41cd-bedc-eccaa254b55c",
   "metadata": {},
   "outputs": [
    {
     "name": "stderr",
     "output_type": "stream",
     "text": [
      "unexpected error: Error: Unexpected pending rebuildTimer\n",
      "    at Object.sys.setTimeout (/srv/npm/lib/node_modules/tslab/dist/converter.js:83:19)\n",
      "    at scheduleProgramUpdate (/srv/npm/lib/node_modules/tslab/node_modules/@tslab/typescript-for-tslab/lib/typescript.js:111417:41)\n",
      "    at onSourceFileChange (/srv/npm/lib/node_modules/tslab/node_modules/@tslab/typescript-for-tslab/lib/typescript.js:111491:13)\n",
      "    at /srv/npm/lib/node_modules/tslab/node_modules/@tslab/typescript-for-tslab/lib/typescript.js:104579:78\n",
      "    at updateContent (/srv/npm/lib/node_modules/tslab/dist/converter.js:568:9)\n",
      "    at Object.convert (/srv/npm/lib/node_modules/tslab/dist/converter.js:218:9)\n",
      "    at Object.execute (/srv/npm/lib/node_modules/tslab/dist/executor.js:140:38)\n",
      "    at JupyterHandlerImpl.handleExecuteImpl (/srv/npm/lib/node_modules/tslab/dist/jupyter.js:219:38)\n",
      "    at /srv/npm/lib/node_modules/tslab/dist/jupyter.js:177:57\n",
      "    at async JupyterHandlerImpl.handleExecute (/srv/npm/lib/node_modules/tslab/dist/jupyter.js:177:21)\n"
     ]
    }
   ],
   "source": [
    "// loading packages\n",
    "import { readFileSync } from \"fs\";\n",
    "import { fromCSV } from \"data-forge\";\n",
    "import { array } from \"vectorious\";"
   ]
  }
 ],
 "metadata": {
  "kernelspec": {
   "display_name": "TypeScript",
   "language": "typescript",
   "name": "tslab"
  },
  "language_info": {
   "codemirror_mode": {
    "mode": "typescript",
    "name": "javascript",
    "typescript": true
   },
   "file_extension": ".ts",
   "mimetype": "text/typescript",
   "name": "typescript",
   "version": "3.7.2"
  }
 },
 "nbformat": 4,
 "nbformat_minor": 5
}
