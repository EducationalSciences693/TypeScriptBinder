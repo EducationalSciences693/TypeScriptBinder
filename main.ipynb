{
 "cells": [
  {
   "cell_type": "code",
   "execution_count": 1,
   "id": "17634bde-9302-459f-8a79-103d7ddb8102",
   "metadata": {},
   "outputs": [],
   "source": [
    "// defining variables\n",
    "let x: number = 4;\n",
    "let y: string = \"hello world!\";"
   ]
  },
  {
   "cell_type": "code",
   "execution_count": 2,
   "id": "b51177af-9fcf-45cd-b8cb-55dbb33ee40b",
   "metadata": {},
   "outputs": [],
   "source": [
    "// defining functions\n",
    "const repeatGreeting = function(times: number, greeting: string): void {\n",
    "    for (let i=0; i < times; ++i){\n",
    "        console.log(greeting);\n",
    "    }\n",
    "}"
   ]
  },
  {
   "cell_type": "code",
   "execution_count": 3,
   "id": "1888e794-d1ac-4bf4-b6bd-201183a541d3",
   "metadata": {},
   "outputs": [
    {
     "name": "stdout",
     "output_type": "stream",
     "text": [
      "hello world!\n",
      "hello world!\n",
      "hello world!\n",
      "hello world!\n"
     ]
    }
   ],
   "source": [
    "// calling functions\n",
    "repeatGreeting(x, y)"
   ]
  },
  {
   "cell_type": "code",
   "execution_count": 4,
   "id": "5a9f23df-5674-4cd8-a1bc-0481a45f2a3b",
   "metadata": {},
   "outputs": [
    {
     "name": "stdout",
     "output_type": "stream",
     "text": [
      "{ make: 'chrysler', model: '300', year: 2016 }\n"
     ]
    }
   ],
   "source": [
    "// declaring types\n",
    "type Car = {\n",
    "    make: string;\n",
    "    model: string;\n",
    "    year: number;\n",
    "}\n",
    "\n",
    "// using types\n",
    "let example: Car = {\n",
    "    make: \"chrysler\",\n",
    "    model: \"300\",\n",
    "    year: 2016\n",
    "}\n",
    "\n",
    "console.log(example);"
   ]
  }
 ],
 "metadata": {
  "kernelspec": {
   "display_name": "TypeScript",
   "language": "typescript",
   "name": "tslab"
  },
  "language_info": {
   "codemirror_mode": {
    "mode": "typescript",
    "name": "javascript",
    "typescript": true
   },
   "file_extension": ".ts",
   "mimetype": "text/typescript",
   "name": "typescript",
   "version": "3.7.2"
  }
 },
 "nbformat": 4,
 "nbformat_minor": 5
}
